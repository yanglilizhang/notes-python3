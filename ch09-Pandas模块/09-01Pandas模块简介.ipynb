{
 "cells": [
  {
   "attachments": {},
   "cell_type": "markdown",
   "id": "bf5419d9",
   "metadata": {},
   "source": [
    "# Pandas模块简介\n",
    "\n",
    "Pandas基于NumPy构建，提供了一些快速强大而又简单易用的数据结构来处理表格、数据库、时间序列、矩阵等形式的数据，是一个强大的数据分析基础模块。\n",
    "\n",
    "Pandas提供了一些基本的数据分析功能，包括：\n",
    "- 支持缺失值的处理。\n",
    "- 支持数据的插入和删除。\n",
    "- 支持与其他常用数据类型的转化。\n",
    "- 支持对数据的索引和筛选。\n",
    "- 支持CSV、Excel、网页、数据库类型文件的读写。\n",
    "\n",
    "Anaconda中已经集成了Pandas模块。可以在命令行使用pip命令更新模块：\n",
    "\n",
    "```python\n",
    "pip install pandas -U\n",
    "```"
   ]
  },
  {
   "cell_type": "code",
   "execution_count": 1,
   "id": "2a2bc40d",
   "metadata": {},
   "outputs": [],
   "source": [
    "import pandas as pd"
   ]
  },
  {
   "cell_type": "code",
   "execution_count": 2,
   "id": "fc8868bb",
   "metadata": {},
   "outputs": [
    {
     "data": {
      "text/plain": [
       "'1.4.1'"
      ]
     },
     "execution_count": 2,
     "metadata": {},
     "output_type": "execute_result"
    }
   ],
   "source": [
    "pd.__version__"
   ]
  },
  {
   "cell_type": "code",
   "execution_count": null,
   "id": "953282e1",
   "metadata": {},
   "outputs": [],
   "source": []
  }
 ],
 "metadata": {
  "kernelspec": {
   "display_name": "Python 3 (ipykernel)",
   "language": "python",
   "name": "python3"
  },
  "language_info": {
   "codemirror_mode": {
    "name": "ipython",
    "version": 3
   },
   "file_extension": ".py",
   "mimetype": "text/x-python",
   "name": "python",
   "nbconvert_exporter": "python",
   "pygments_lexer": "ipython3",
   "version": "3.9.10"
  }
 },
 "nbformat": 4,
 "nbformat_minor": 5
}
