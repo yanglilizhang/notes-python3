{
 "cells": [
  {
   "cell_type": "markdown",
   "id": "c0d94543",
   "metadata": {},
   "source": [
    "# 概率统计模块\n",
    "\n",
    "SciPy中负责概率统计的模块时scipy.stats："
   ]
  },
  {
   "cell_type": "code",
   "execution_count": 1,
   "id": "0323fda0",
   "metadata": {},
   "outputs": [],
   "source": [
    "import numpy as np"
   ]
  },
  {
   "cell_type": "code",
   "execution_count": 2,
   "id": "ea2b31ec",
   "metadata": {},
   "outputs": [],
   "source": [
    "from matplotlib import pyplot as plt"
   ]
  },
  {
   "cell_type": "code",
   "execution_count": 3,
   "id": "9d6b94fb",
   "metadata": {},
   "outputs": [],
   "source": [
    "from scipy import stats"
   ]
  },
  {
   "cell_type": "markdown",
   "id": "2eb8f58e",
   "metadata": {},
   "source": [
    "## 基本统计量的计算"
   ]
  },
  {
   "cell_type": "markdown",
   "id": "7fc39d97",
   "metadata": {},
   "source": [
    "考虑这组身高数据："
   ]
  },
  {
   "cell_type": "code",
   "execution_count": 4,
   "id": "1cfae90e",
   "metadata": {},
   "outputs": [],
   "source": [
    "h = np.array([1.46,1.79,2.01,1.75,1.56,1.69,1.88,1.76,1.88,1.78])"
   ]
  },
  {
   "cell_type": "markdown",
   "id": "8fc090f1",
   "metadata": {},
   "source": [
    "NumPy已经可以计算一些基础的统计数据，如最大最小值："
   ]
  },
  {
   "cell_type": "code",
   "execution_count": 5,
   "id": "9c6c1729",
   "metadata": {},
   "outputs": [
    {
     "data": {
      "text/plain": [
       "(2.01, 2.01)"
      ]
     },
     "execution_count": 5,
     "metadata": {},
     "output_type": "execute_result"
    }
   ],
   "source": [
    "np.max(h), h.max()"
   ]
  },
  {
   "cell_type": "code",
   "execution_count": 6,
   "id": "ccc45a1d",
   "metadata": {},
   "outputs": [
    {
     "data": {
      "text/plain": [
       "(1.46, 1.46)"
      ]
     },
     "execution_count": 6,
     "metadata": {},
     "output_type": "execute_result"
    }
   ],
   "source": [
    "np.min(h), h.min()"
   ]
  },
  {
   "cell_type": "markdown",
   "id": "cc809e66",
   "metadata": {},
   "source": [
    "均值、方程、标准差："
   ]
  },
  {
   "cell_type": "code",
   "execution_count": 7,
   "id": "7abd9cbc",
   "metadata": {
    "scrolled": true
   },
   "outputs": [
    {
     "data": {
      "text/plain": [
       "(1.7559999999999998, 1.7559999999999998)"
      ]
     },
     "execution_count": 7,
     "metadata": {},
     "output_type": "execute_result"
    }
   ],
   "source": [
    "np.mean(h), h.mean()"
   ]
  },
  {
   "cell_type": "code",
   "execution_count": 8,
   "id": "09e80419",
   "metadata": {},
   "outputs": [
    {
     "data": {
      "text/plain": [
       "(0.15081114017207078, 0.15081114017207078)"
      ]
     },
     "execution_count": 8,
     "metadata": {},
     "output_type": "execute_result"
    }
   ],
   "source": [
    "np.std(h), h.std()"
   ]
  },
  {
   "cell_type": "code",
   "execution_count": 9,
   "id": "db7e998d",
   "metadata": {},
   "outputs": [
    {
     "data": {
      "text/plain": [
       "(0.022743999999999986, 0.022743999999999986)"
      ]
     },
     "execution_count": 9,
     "metadata": {},
     "output_type": "execute_result"
    }
   ],
   "source": [
    "np.var(h), h.var()"
   ]
  },
  {
   "cell_type": "markdown",
   "id": "74df8569",
   "metadata": {},
   "source": [
    "中位数："
   ]
  },
  {
   "cell_type": "code",
   "execution_count": 10,
   "id": "cea2e377",
   "metadata": {},
   "outputs": [
    {
     "data": {
      "text/plain": [
       "1.77"
      ]
     },
     "execution_count": 10,
     "metadata": {},
     "output_type": "execute_result"
    }
   ],
   "source": [
    "np.median(h)"
   ]
  },
  {
   "attachments": {},
   "cell_type": "markdown",
   "id": "7001a33e",
   "metadata": {},
   "source": [
    "scipy.stats模块提供了一些其他的统计量，如众数及其出现次数："
   ]
  },
  {
   "cell_type": "code",
   "execution_count": 11,
   "id": "27e4d216",
   "metadata": {},
   "outputs": [
    {
     "data": {
      "text/plain": [
       "ModeResult(mode=array([1.88]), count=array([2]))"
      ]
     },
     "execution_count": 11,
     "metadata": {},
     "output_type": "execute_result"
    }
   ],
   "source": [
    "stats.mode(h)"
   ]
  },
  {
   "attachments": {},
   "cell_type": "markdown",
   "id": "0af21249",
   "metadata": {},
   "source": [
    "偏度和峰度："
   ]
  },
  {
   "cell_type": "code",
   "execution_count": 12,
   "id": "b8ceceb5",
   "metadata": {},
   "outputs": [
    {
     "data": {
      "text/plain": [
       "(-0.3935244564726347, -0.33067209772439865)"
      ]
     },
     "execution_count": 12,
     "metadata": {},
     "output_type": "execute_result"
    }
   ],
   "source": [
    "stats.skew(h), stats.kurtosis(h)"
   ]
  },
  {
   "cell_type": "markdown",
   "id": "0abc9a2f",
   "metadata": {},
   "source": [
    "## 概率分布"
   ]
  },
  {
   "attachments": {},
   "cell_type": "markdown",
   "id": "8aaeda01",
   "metadata": {},
   "source": [
    "概率分布可以分成连续分布和离散分布两大类。为了处理不同的分布，scipy.stats模块提供了一套公用的接口来处理它们。"
   ]
  },
  {
   "cell_type": "markdown",
   "id": "cc3da255",
   "metadata": {},
   "source": [
    "### 连续分布的处理"
   ]
  },
  {
   "cell_type": "markdown",
   "id": "8ca5107c",
   "metadata": {},
   "source": [
    "最常见的连续分布是正态分布："
   ]
  },
  {
   "cell_type": "code",
   "execution_count": 13,
   "id": "7b7dc553",
   "metadata": {},
   "outputs": [],
   "source": [
    "from scipy.stats import norm"
   ]
  },
  {
   "cell_type": "markdown",
   "id": "17b49e72",
   "metadata": {},
   "source": [
    "产生一个服从标准正态分布的数组："
   ]
  },
  {
   "cell_type": "code",
   "execution_count": 14,
   "id": "408e78a0",
   "metadata": {},
   "outputs": [],
   "source": [
    "x_norm = norm.rvs(size=1000)"
   ]
  },
  {
   "cell_type": "markdown",
   "id": "708181ec",
   "metadata": {},
   "source": [
    "其直方图如下："
   ]
  },
  {
   "cell_type": "code",
   "execution_count": 15,
   "id": "1de03a6a",
   "metadata": {},
   "outputs": [
    {
     "data": {
      "image/png": "[encoded data removed]",
      "text/plain": [
       "<Figure size 432x288 with 1 Axes>"
      ]
     },
     "metadata": {
      "needs_background": "light"
     },
     "output_type": "display_data"
    }
   ],
   "source": [
    "h = plt.hist(x_norm, bins=20, density=True)"
   ]
  },
  {
   "attachments": {},
   "cell_type": "markdown",
   "id": "b0af653b",
   "metadata": {},
   "source": [
    "数学上，正态分布有两个参数，分别为均值和标准差。可以使用.fit()方法估计上面这组数据对应的正态分布参数："
   ]
  },
  {
   "cell_type": "code",
   "execution_count": 16,
   "id": "0e7bb812",
   "metadata": {},
   "outputs": [],
   "source": [
    "x_mean, x_std = norm.fit(x_norm)"
   ]
  },
  {
   "cell_type": "code",
   "execution_count": 17,
   "id": "3f5808d7",
   "metadata": {},
   "outputs": [
    {
     "data": {
      "text/plain": [
       "(-0.04144512171911825, 1.0443013935968204)"
      ]
     },
     "execution_count": 17,
     "metadata": {},
     "output_type": "execute_result"
    }
   ],
   "source": [
    "x_mean, x_std"
   ]
  },
  {
   "attachments": {},
   "cell_type": "markdown",
   "id": "c6f556a3",
   "metadata": {},
   "source": [
    "标准正态分布的均值为0，标准差为1，估计出的参数与真实参数已经十分接近。\n",
    "\n",
    "可以用方法`norm.pdf()`来计算正态分布在某点处的对应的概率密度函数值："
   ]
  },
  {
   "cell_type": "code",
   "execution_count": 18,
   "id": "261acbdd",
   "metadata": {},
   "outputs": [],
   "source": [
    "x = np.linspace(-3, 3)"
   ]
  },
  {
   "cell_type": "code",
   "execution_count": 19,
   "id": "a0dfeaba",
   "metadata": {},
   "outputs": [],
   "source": [
    "p = norm.pdf(x)"
   ]
  },
  {
   "cell_type": "code",
   "execution_count": 20,
   "id": "6dcdecfb",
   "metadata": {},
   "outputs": [
    {
     "data": {
      "text/plain": [
       "[<matplotlib.lines.Line2D at 0x128670310>]"
      ]
     },
     "execution_count": 20,
     "metadata": {},
     "output_type": "execute_result"
    },
    {
     "data": {
      "image/png": "[encoded data removed]",
      "text/plain": [
       "<Figure size 432x288 with 1 Axes>"
      ]
     },
     "metadata": {
      "needs_background": "light"
     },
     "output_type": "display_data"
    }
   ],
   "source": [
    "h = plt.hist(x_norm, bins=20, density=True)\n",
    "plt.plot(x, p)"
   ]
  },
  {
   "attachments": {},
   "cell_type": "markdown",
   "id": "990a2278",
   "metadata": {},
   "source": [
    "累计分布函数可以用方法`norm.cdf()`计算，对于正态分布来说，若均值为μ，标准差为σ，则有以下结论：\n",
    "- 数据分布在(μ-σ,μ+σ)的概率约为0.683\n",
    "- 数据分布在(μ-2σ,μ+2σ)的概率约为0.954\n",
    "- 数据分布在(μ-3σ,μ+3σ)的概率约为0.997\n",
    "\n",
    "利用标准正态分布的累计分布函数对这些结论进行验证："
   ]
  },
  {
   "cell_type": "code",
   "execution_count": 21,
   "id": "a5018cf3",
   "metadata": {},
   "outputs": [
    {
     "data": {
      "text/plain": [
       "0.6826894921370859"
      ]
     },
     "execution_count": 21,
     "metadata": {},
     "output_type": "execute_result"
    }
   ],
   "source": [
    "norm.cdf(1) - norm.cdf(-1)"
   ]
  },
  {
   "cell_type": "code",
   "execution_count": 22,
   "id": "fa040653",
   "metadata": {},
   "outputs": [
    {
     "data": {
      "text/plain": [
       "0.9544997361036416"
      ]
     },
     "execution_count": 22,
     "metadata": {},
     "output_type": "execute_result"
    }
   ],
   "source": [
    "norm.cdf(2) - norm.cdf(-2)"
   ]
  },
  {
   "cell_type": "code",
   "execution_count": 23,
   "id": "8ddb4fcd",
   "metadata": {},
   "outputs": [
    {
     "data": {
      "text/plain": [
       "0.9973002039367398"
      ]
     },
     "execution_count": 23,
     "metadata": {},
     "output_type": "execute_result"
    }
   ],
   "source": [
    "norm.cdf(3) - norm.cdf(-3)"
   ]
  },
  {
   "attachments": {},
   "cell_type": "markdown",
   "id": "1456d578",
   "metadata": {},
   "source": [
    "累积分布函数的反函数可以使用`norm.ppf()`方法得到。比如找到标准正态分布中概率恰好为一半的点："
   ]
  },
  {
   "cell_type": "code",
   "execution_count": 24,
   "id": "fd4ae1bb",
   "metadata": {},
   "outputs": [
    {
     "data": {
      "text/plain": [
       "0.0"
      ]
     },
     "execution_count": 24,
     "metadata": {},
     "output_type": "execute_result"
    }
   ],
   "source": [
    "norm.ppf(0.5)"
   ]
  },
  {
   "attachments": {},
   "cell_type": "markdown",
   "id": "7c6d093d",
   "metadata": {},
   "source": [
    "scipy.stats模块可以使用位置和尺度参数来改变概率分布的参数。设位置参数为loc，尺度参数为scale，对概率密度函数为`p(x)`的概率分布，进行尺度与平移变换后，新的概率密度函数为`p((x-loc)/scale)`。\n",
    "\n",
    "在正态分布的例子中，方法.fit()返回的其实是对这两个参数的估计。在正态分布中，这两个参数恰好对应分布的均值和标准差。\n",
    "\n",
    "可以通过改变这两个参数得到不同参数的概率分布："
   ]
  },
  {
   "cell_type": "code",
   "execution_count": 25,
   "id": "1bbb46c1",
   "metadata": {},
   "outputs": [],
   "source": [
    "x = np.linspace(-3, 3)"
   ]
  },
  {
   "cell_type": "code",
   "execution_count": 26,
   "id": "7ced3370",
   "metadata": {},
   "outputs": [
    {
     "data": {
      "text/plain": [
       "<matplotlib.legend.Legend at 0x1286e0d30>"
      ]
     },
     "execution_count": 26,
     "metadata": {},
     "output_type": "execute_result"
    },
    {
     "data": {
      "image/png": "[encoded data removed]",
      "text/plain": [
       "<Figure size 432x288 with 1 Axes>"
      ]
     },
     "metadata": {
      "needs_background": "light"
     },
     "output_type": "display_data"
    }
   ],
   "source": [
    "plt.plot(x, norm.pdf(x),\n",
    "         x, norm.pdf(x, loc=0.5, scale=2), '--',\n",
    "         x, norm.pdf(x, loc=-0.5, scale=0.5), ':')\n",
    "\n",
    "plt.legend([r'$\\mu=0,\\sigma=1$', \n",
    "            r'$\\mu=0.5,\\sigma=2$',\n",
    "            r'$\\mu=-0.5,\\sigma=0.5$'])"
   ]
  },
  {
   "cell_type": "markdown",
   "id": "0b421bc0",
   "metadata": {},
   "source": [
    "也可以将loc和scale参数直接传递给norm，来构造一个新的概率分布对象。下面这两种用法是等价的：\n",
    "```python\n",
    "norm(loc=0.5, scale=2).pdf(x)\n",
    "norm.pdf(x, loc=0.5, scale=2)\n",
    "```"
   ]
  },
  {
   "cell_type": "markdown",
   "id": "353fce9c",
   "metadata": {},
   "source": [
    "除了正态分布外，还有一些其他的连续分布，如指数分布和学生t分布："
   ]
  },
  {
   "cell_type": "code",
   "execution_count": 27,
   "id": "48aab732",
   "metadata": {},
   "outputs": [],
   "source": [
    "from scipy.stats import expon, t"
   ]
  },
  {
   "attachments": {},
   "cell_type": "markdown",
   "id": "005d2860",
   "metadata": {},
   "source": [
    "指数分布的例子，其参数λ是尺度参数scale的倒数："
   ]
  },
  {
   "cell_type": "code",
   "execution_count": 28,
   "id": "ee6af681",
   "metadata": {},
   "outputs": [],
   "source": [
    "x = np.linspace(0.01, 1)"
   ]
  },
  {
   "cell_type": "code",
   "execution_count": 29,
   "id": "df3909d3",
   "metadata": {},
   "outputs": [
    {
     "data": {
      "text/plain": [
       "<matplotlib.legend.Legend at 0x127fb97f0>"
      ]
     },
     "execution_count": 29,
     "metadata": {},
     "output_type": "execute_result"
    },
    {
     "data": {
      "image/png": "[encoded data removed]",
      "text/plain": [
       "<Figure size 432x288 with 1 Axes>"
      ]
     },
     "metadata": {
      "needs_background": "light"
     },
     "output_type": "display_data"
    }
   ],
   "source": [
    "plt.plot(x, expon.pdf(x),\n",
    "         x, expon.pdf(x, scale=2), '--',\n",
    "         x, expon.pdf(x, scale=0.5), ':')\n",
    "\n",
    "plt.legend([r'$\\lambda=1$', r'$\\lambda=0.5$', r'$\\lambda=2$'])"
   ]
  },
  {
   "cell_type": "markdown",
   "id": "dd86a539",
   "metadata": {},
   "source": [
    "学生t分布的例子："
   ]
  },
  {
   "cell_type": "code",
   "execution_count": 30,
   "id": "d67ad433",
   "metadata": {},
   "outputs": [],
   "source": [
    "x = np.linspace(-3, 3)"
   ]
  },
  {
   "cell_type": "code",
   "execution_count": 31,
   "id": "d7463554",
   "metadata": {},
   "outputs": [
    {
     "data": {
      "text/plain": [
       "<matplotlib.legend.Legend at 0x1287e7ee0>"
      ]
     },
     "execution_count": 31,
     "metadata": {},
     "output_type": "execute_result"
    },
    {
     "data": {
      "image/png": "[encoded data removed]",
      "text/plain": [
       "<Figure size 432x288 with 1 Axes>"
      ]
     },
     "metadata": {
      "needs_background": "light"
     },
     "output_type": "display_data"
    }
   ],
   "source": [
    "plt.plot(x, t.pdf(x, df=1), \n",
    "         x, t.pdf(x, df=5), '--', \n",
    "         x, t.pdf(x, df=100), ':')\n",
    "plt.legend([r'$df=1$', r'$df=5$', r'$df=100$'])"
   ]
  },
  {
   "attachments": {},
   "cell_type": "markdown",
   "id": "c8bdc676",
   "metadata": {},
   "source": [
    "相对于之前的分布，学生t分布有一个额外参数df，表示分布的自由度。额外参数可以分布对象的`.numargs`属性查看。正态分布和指数分布不需要额外参数："
   ]
  },
  {
   "cell_type": "code",
   "execution_count": 32,
   "id": "b3b7c82e",
   "metadata": {},
   "outputs": [
    {
     "data": {
      "text/plain": [
       "0"
      ]
     },
     "execution_count": 32,
     "metadata": {},
     "output_type": "execute_result"
    }
   ],
   "source": [
    "expon.numargs"
   ]
  },
  {
   "cell_type": "code",
   "execution_count": 33,
   "id": "110debf0",
   "metadata": {},
   "outputs": [
    {
     "data": {
      "text/plain": [
       "0"
      ]
     },
     "execution_count": 33,
     "metadata": {},
     "output_type": "execute_result"
    }
   ],
   "source": [
    "norm.numargs"
   ]
  },
  {
   "cell_type": "code",
   "execution_count": 34,
   "id": "d2be3878",
   "metadata": {},
   "outputs": [
    {
     "data": {
      "text/plain": [
       "1"
      ]
     },
     "execution_count": 34,
     "metadata": {},
     "output_type": "execute_result"
    }
   ],
   "source": [
    "t.numargs"
   ]
  },
  {
   "cell_type": "markdown",
   "id": "bbe1549e",
   "metadata": {},
   "source": [
    "额外参数的名称可以用`.shapes`属性查看："
   ]
  },
  {
   "cell_type": "code",
   "execution_count": 35,
   "id": "47cf6149",
   "metadata": {},
   "outputs": [
    {
     "data": {
      "text/plain": [
       "'df'"
      ]
     },
     "execution_count": 35,
     "metadata": {},
     "output_type": "execute_result"
    }
   ],
   "source": [
    "t.shapes"
   ]
  },
  {
   "attachments": {},
   "cell_type": "markdown",
   "id": "117df9aa",
   "metadata": {},
   "source": [
    "### 离散分布\n",
    "\n",
    "离散分布没有概率密度函数，但有概率质量函数（Probability Mass Function，PMF），用来表示每个离散点上的概率，对应于stats模块的`.pmf()`方法。\n",
    "\n",
    "一个典型的离散分布是离散均匀分布，如一个均匀骰子的掷出的点数："
   ]
  },
  {
   "cell_type": "code",
   "execution_count": 36,
   "id": "c576a7f3",
   "metadata": {},
   "outputs": [],
   "source": [
    "from scipy.stats import randint"
   ]
  },
  {
   "cell_type": "code",
   "execution_count": 37,
   "id": "6b597567",
   "metadata": {},
   "outputs": [],
   "source": [
    "x = np.arange(1, 7)"
   ]
  },
  {
   "cell_type": "code",
   "execution_count": 38,
   "id": "eacb2c56",
   "metadata": {},
   "outputs": [
    {
     "data": {
      "text/plain": [
       "<StemContainer object of 3 artists>"
      ]
     },
     "execution_count": 38,
     "metadata": {},
     "output_type": "execute_result"
    },
    {
     "data": {
      "image/png": "[encoded data removed]",
      "text/plain": [
       "<Figure size 432x288 with 1 Axes>"
      ]
     },
     "metadata": {
      "needs_background": "light"
     },
     "output_type": "display_data"
    }
   ],
   "source": [
    "plt.stem(x, randint(1, 7).pmf(x))"
   ]
  },
  {
   "cell_type": "markdown",
   "id": "56823996",
   "metadata": {},
   "source": [
    "`plt.stem()`函数是用来绘制杆状图的函数。\n",
    "\n",
    "离散均匀分布有两个额外参数："
   ]
  },
  {
   "cell_type": "code",
   "execution_count": 39,
   "id": "f0264b64",
   "metadata": {},
   "outputs": [
    {
     "data": {
      "text/plain": [
       "'low, high'"
      ]
     },
     "execution_count": 39,
     "metadata": {},
     "output_type": "execute_result"
    }
   ],
   "source": [
    "randint.shapes"
   ]
  },
  {
   "cell_type": "markdown",
   "id": "5aa08083",
   "metadata": {},
   "source": [
    "另一种常用的离散分布是二项分布："
   ]
  },
  {
   "cell_type": "code",
   "execution_count": 40,
   "id": "e872fb25",
   "metadata": {},
   "outputs": [],
   "source": [
    "from scipy.stats import binom"
   ]
  },
  {
   "cell_type": "markdown",
   "id": "64b5d3fd",
   "metadata": {},
   "source": [
    "二项分布有额外的参数："
   ]
  },
  {
   "cell_type": "code",
   "execution_count": 41,
   "id": "be746122",
   "metadata": {},
   "outputs": [
    {
     "data": {
      "text/plain": [
       "'n, p'"
      ]
     },
     "execution_count": 41,
     "metadata": {},
     "output_type": "execute_result"
    }
   ],
   "source": [
    "binom.shapes"
   ]
  },
  {
   "attachments": {},
   "cell_type": "markdown",
   "id": "dc181a0a",
   "metadata": {},
   "source": [
    "n是二项分布的试验次数，p是每次试验得到1的概率："
   ]
  },
  {
   "cell_type": "code",
   "execution_count": 42,
   "id": "eefbdf99",
   "metadata": {},
   "outputs": [
    {
     "data": {
      "text/plain": [
       "<StemContainer object of 3 artists>"
      ]
     },
     "execution_count": 42,
     "metadata": {},
     "output_type": "execute_result"
    },
    {
     "data": {
      "image/png": "[encoded data removed]",
      "text/plain": [
       "<Figure size 432x288 with 1 Axes>"
      ]
     },
     "metadata": {
      "needs_background": "light"
     },
     "output_type": "display_data"
    }
   ],
   "source": [
    "x = np.arange(0, 11)\n",
    "\n",
    "plt.stem(x, binom(n=10, p=0.5).pmf(x))"
   ]
  },
  {
   "attachments": {},
   "cell_type": "markdown",
   "id": "81655c23",
   "metadata": {},
   "source": [
    "泊松分布通常用于描述单位时间内单位时间内随机事件发生的次数："
   ]
  },
  {
   "cell_type": "code",
   "execution_count": 43,
   "id": "0eafbf49",
   "metadata": {},
   "outputs": [],
   "source": [
    "from scipy.stats import poisson"
   ]
  },
  {
   "cell_type": "code",
   "execution_count": 44,
   "id": "504b0d1c",
   "metadata": {},
   "outputs": [
    {
     "data": {
      "text/plain": [
       "'mu'"
      ]
     },
     "execution_count": 44,
     "metadata": {},
     "output_type": "execute_result"
    }
   ],
   "source": [
    "poisson.shapes"
   ]
  },
  {
   "attachments": {},
   "cell_type": "markdown",
   "id": "cbf8d9a7",
   "metadata": {},
   "source": [
    "其中，mu表示随机事件发生平均发生率："
   ]
  },
  {
   "cell_type": "code",
   "execution_count": 45,
   "id": "1004bf8c",
   "metadata": {},
   "outputs": [],
   "source": [
    "x = np.arange(21)"
   ]
  },
  {
   "cell_type": "code",
   "execution_count": 46,
   "id": "47c9d1f0",
   "metadata": {},
   "outputs": [
    {
     "data": {
      "image/png": "[encoded data removed]",
      "text/plain": [
       "<Figure size 432x288 with 1 Axes>"
      ]
     },
     "metadata": {
      "needs_background": "light"
     },
     "output_type": "display_data"
    }
   ],
   "source": [
    "plt.stem(x, poisson(7).pmf(x))\n",
    "plt.xticks(x)\n",
    "plt.show()"
   ]
  },
  {
   "cell_type": "code",
   "execution_count": null,
   "id": "0d373634",
   "metadata": {},
   "outputs": [],
   "source": []
  }
 ],
 "metadata": {
  "kernelspec": {
   "display_name": "Python 3 (ipykernel)",
   "language": "python",
   "name": "python3"
  },
  "language_info": {
   "codemirror_mode": {
    "name": "ipython",
    "version": 3
   },
   "file_extension": ".py",
   "mimetype": "text/x-python",
   "name": "python",
   "nbconvert_exporter": "python",
   "pygments_lexer": "ipython3",
   "version": "3.9.10"
  }
 },
 "nbformat": 4,
 "nbformat_minor": 5
}
