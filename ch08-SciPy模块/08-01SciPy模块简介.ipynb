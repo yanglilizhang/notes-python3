{
 "cells": [
  {
   "cell_type": "markdown",
   "id": "7ce2c8fb",
   "metadata": {},
   "source": [
    "# SciPy模块简介\n",
    "\n",
    "SciPy是一个以NumPy模块为基础的第三方Python模块。\n",
    "\n",
    "Anaconda中已经集成了SciPy模块。可以在命令行使用pip命令更新模块：\n",
    "```shell\n",
    "pip install scipy -U\n",
    "```\n",
    "\n",
    "SciPy模块由很多不同的科学计算子模块组成，常用的主要有：\n",
    "- scipy.cluster：聚类算法。\n",
    "- scipy.integrate：积分和常微分方程求解。\n",
    "- scipy.interpolate：插值相关。\n",
    "- scipy.optimize：优化相关。\n",
    "- scipy.stats：统计相关。\n",
    "- scipy.linalg：线性代数相关。\n",
    "\n",
    "SciPy模块通常以“子模块.函数”的形式进行调用。"
   ]
  },
  {
   "cell_type": "code",
   "execution_count": null,
   "id": "2e36a95f",
   "metadata": {},
   "outputs": [],
   "source": []
  }
 ],
 "metadata": {
  "kernelspec": {
   "display_name": "Python 3 (ipykernel)",
   "language": "python",
   "name": "python3"
  },
  "language_info": {
   "codemirror_mode": {
    "name": "ipython",
    "version": 3
   },
   "file_extension": ".py",
   "mimetype": "text/x-python",
   "name": "python",
   "nbconvert_exporter": "python",
   "pygments_lexer": "ipython3",
   "version": "3.9.10"
  }
 },
 "nbformat": 4,
 "nbformat_minor": 5
}
