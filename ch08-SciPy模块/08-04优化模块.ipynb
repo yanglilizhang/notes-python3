{
 "cells": [
  {
   "attachments": {},
   "cell_type": "markdown",
   "id": "1f83910f",
   "metadata": {},
   "source": [
    "# 优化模块\n",
    "\n",
    "scipy.optimize是SciPy中负责优化的子模块，这里介绍其三个主要功能：\n",
    "- 最小二乘优化和曲线拟合。\n",
    "- 无约束的优化。\n",
    "- 方程求根。"
   ]
  },
  {
   "cell_type": "code",
   "execution_count": 1,
   "id": "f505fb10",
   "metadata": {},
   "outputs": [],
   "source": [
    "import numpy as np"
   ]
  },
  {
   "cell_type": "code",
   "execution_count": 2,
   "id": "d6569fbb",
   "metadata": {},
   "outputs": [],
   "source": [
    "from matplotlib import pyplot as plt"
   ]
  },
  {
   "cell_type": "markdown",
   "id": "0bc6b103",
   "metadata": {},
   "source": [
    "## 多项式拟合"
   ]
  },
  {
   "attachments": {},
   "cell_type": "markdown",
   "id": "15b3e3ca",
   "metadata": {},
   "source": [
    "多项式拟合（Polynomial Curve-Fitting）用n阶多项式描述数据点(x,y)的关系。\n",
    "多项式拟合的目的是找到一组系数，使得拟合得到的曲线与真实数据点之间的距离最小。\n",
    "\n",
    "例如，考虑这样的一组数据："
   ]
  },
  {
   "cell_type": "code",
   "execution_count": 3,
   "id": "ec996f6a",
   "metadata": {},
   "outputs": [],
   "source": [
    "x = np.linspace(-5, 5, 50)"
   ]
  },
  {
   "cell_type": "code",
   "execution_count": 4,
   "id": "40e1901f",
   "metadata": {},
   "outputs": [],
   "source": [
    "y = 4 * x + 1.5"
   ]
  },
  {
   "cell_type": "code",
   "execution_count": 5,
   "id": "caaaf9c5",
   "metadata": {},
   "outputs": [],
   "source": [
    "y_noise = y + np.random.randn(50) * 2"
   ]
  },
  {
   "cell_type": "code",
   "execution_count": 6,
   "id": "3ce63443",
   "metadata": {},
   "outputs": [
    {
     "data": {
      "text/plain": [
       "[<matplotlib.lines.Line2D at 0x114280b80>]"
      ]
     },
     "execution_count": 6,
     "metadata": {},
     "output_type": "execute_result"
    },
    {
     "data": {
      "image/png": "[encoded data removed]",
      "text/plain": [
       "<Figure size 432x288 with 1 Axes>"
      ]
     },
     "metadata": {
      "needs_background": "light"
     },
     "output_type": "display_data"
    }
   ],
   "source": [
    "plt.plot(x, y_noise, \"x\")"
   ]
  },
  {
   "attachments": {},
   "cell_type": "markdown",
   "id": "36633697",
   "metadata": {},
   "source": [
    "拟合与插值不同，拟合不要求得到的曲线经过所有的数据点。\n",
    "\n",
    "多项式拟合的系数可以使用NumPy模块的np.polyfit()函数来得到："
   ]
  },
  {
   "cell_type": "code",
   "execution_count": 7,
   "id": "529add92",
   "metadata": {},
   "outputs": [],
   "source": [
    "coeff = np.polyfit(x, y_noise, 1)"
   ]
  },
  {
   "cell_type": "code",
   "execution_count": 8,
   "id": "3b39ab50",
   "metadata": {},
   "outputs": [
    {
     "data": {
      "text/plain": [
       "array([4.17438706, 1.35630552])"
      ]
     },
     "execution_count": 8,
     "metadata": {},
     "output_type": "execute_result"
    }
   ],
   "source": [
    "coeff"
   ]
  },
  {
   "cell_type": "code",
   "execution_count": 9,
   "id": "08797937",
   "metadata": {},
   "outputs": [
    {
     "data": {
      "text/plain": [
       "[<matplotlib.lines.Line2D at 0x1143793d0>,\n",
       " <matplotlib.lines.Line2D at 0x1143794c0>]"
      ]
     },
     "execution_count": 9,
     "metadata": {},
     "output_type": "execute_result"
    },
    {
     "data": {
      "image/png": "[encoded data removed]",
      "text/plain": [
       "<Figure size 432x288 with 1 Axes>"
      ]
     },
     "metadata": {
      "needs_background": "light"
     },
     "output_type": "display_data"
    }
   ],
   "source": [
    "plt.plot(x, y_noise, \"x\", x, coeff[0] * x + coeff[1])"
   ]
  },
  {
   "attachments": {},
   "cell_type": "markdown",
   "id": "99f06fff",
   "metadata": {},
   "source": [
    "多项式函数还可以通过函数`np.ploy1d()`生成："
   ]
  },
  {
   "cell_type": "code",
   "execution_count": 10,
   "id": "d0336fe1",
   "metadata": {},
   "outputs": [],
   "source": [
    "f = np.poly1d(coeff)"
   ]
  },
  {
   "cell_type": "code",
   "execution_count": 11,
   "id": "428cbb4d",
   "metadata": {},
   "outputs": [
    {
     "data": {
      "text/plain": [
       "poly1d([4.17438706, 1.35630552])"
      ]
     },
     "execution_count": 11,
     "metadata": {},
     "output_type": "execute_result"
    }
   ],
   "source": [
    "f"
   ]
  },
  {
   "cell_type": "code",
   "execution_count": 12,
   "id": "cd706b0a",
   "metadata": {},
   "outputs": [
    {
     "name": "stdout",
     "output_type": "stream",
     "text": [
      " \n",
      "4.174 x + 1.356\n"
     ]
    }
   ],
   "source": [
    "print(f)"
   ]
  },
  {
   "attachments": {},
   "cell_type": "markdown",
   "id": "34a4d4c9",
   "metadata": {},
   "source": [
    "生成的多项式对象支持数学运算得到新的多项式："
   ]
  },
  {
   "cell_type": "code",
   "execution_count": 13,
   "id": "6ab3e047",
   "metadata": {},
   "outputs": [
    {
     "name": "stdout",
     "output_type": "stream",
     "text": [
      "       2\n",
      "17.43 x + 15.5 x + 8.196\n"
     ]
    }
   ],
   "source": [
    "print(f ** 2 + 2+ f + 3)"
   ]
  },
  {
   "cell_type": "markdown",
   "id": "37d81192",
   "metadata": {},
   "source": [
    "考虑更复杂的拟合："
   ]
  },
  {
   "cell_type": "code",
   "execution_count": 14,
   "id": "807d02f4",
   "metadata": {},
   "outputs": [],
   "source": [
    "x = np.linspace(0, np.pi * 2)"
   ]
  },
  {
   "cell_type": "code",
   "execution_count": 15,
   "id": "529ece88",
   "metadata": {},
   "outputs": [],
   "source": [
    "y = np.sin(x)"
   ]
  },
  {
   "attachments": {},
   "cell_type": "markdown",
   "id": "83828aa5",
   "metadata": {},
   "source": [
    "分别使用1阶，3阶和9阶多项式对这组数据进行拟合："
   ]
  },
  {
   "cell_type": "code",
   "execution_count": 16,
   "id": "5d3f685a",
   "metadata": {},
   "outputs": [],
   "source": [
    "f1 = np.poly1d(np.polyfit(x, y, 1))"
   ]
  },
  {
   "cell_type": "code",
   "execution_count": 17,
   "id": "b66c2eec",
   "metadata": {},
   "outputs": [],
   "source": [
    "f3 = np.poly1d(np.polyfit(x, y, 3))"
   ]
  },
  {
   "cell_type": "code",
   "execution_count": 18,
   "id": "499910e6",
   "metadata": {},
   "outputs": [],
   "source": [
    "f9 = np.poly1d(np.polyfit(x, y, 9))"
   ]
  },
  {
   "cell_type": "markdown",
   "id": "b0b5a970",
   "metadata": {},
   "source": [
    "拟合曲线如下："
   ]
  },
  {
   "cell_type": "code",
   "execution_count": 19,
   "id": "2f0a34b0",
   "metadata": {},
   "outputs": [],
   "source": [
    "t = np.linspace(-3 * np.pi, 3 * np.pi, 200)"
   ]
  },
  {
   "cell_type": "code",
   "execution_count": 20,
   "id": "89520c75",
   "metadata": {},
   "outputs": [
    {
     "data": {
      "text/plain": [
       "(-9.42477796076938, 9.42477796076938, -1.5, 1.5)"
      ]
     },
     "execution_count": 20,
     "metadata": {},
     "output_type": "execute_result"
    },
    {
     "data": {
      "image/png": "[encoded data removed]",
      "text/plain": [
       "<Figure size 432x288 with 1 Axes>"
      ]
     },
     "metadata": {
      "needs_background": "light"
     },
     "output_type": "display_data"
    }
   ],
   "source": [
    "plt.plot(x, y, \"x\", \n",
    "         t, f1(t), \":\", \n",
    "         t, f3(t), \"--\", \n",
    "         t, f9(t), \"-.\",\n",
    "         t, np.sin(t)\n",
    "        )\n",
    "plt.legend([\"data\", r\"$n=1$\", r\"$n=3$\", r\"$n=9$\", r\"$y=\\sin(x)$\"])\n",
    "plt.axis([-3 * np.pi, 3 * np.pi, -1.5, 1.5])"
   ]
  },
  {
   "cell_type": "markdown",
   "id": "4efc0899",
   "metadata": {},
   "source": [
    "最小二乘拟合："
   ]
  },
  {
   "cell_type": "code",
   "execution_count": 21,
   "id": "2fc56019",
   "metadata": {},
   "outputs": [],
   "source": [
    "from scipy import optimize"
   ]
  },
  {
   "attachments": {},
   "cell_type": "markdown",
   "id": "adff5e75",
   "metadata": {},
   "source": [
    "定义一个关于x的函数，该函数有四个额外参数："
   ]
  },
  {
   "cell_type": "code",
   "execution_count": 22,
   "id": "873650e1",
   "metadata": {},
   "outputs": [],
   "source": [
    "def my_f(x, a, b, w, t):\n",
    "    return a * np.exp(-b * np.sin(w * x + t)) "
   ]
  },
  {
   "cell_type": "markdown",
   "id": "66d86288",
   "metadata": {},
   "source": [
    "生成一组带噪声的数据："
   ]
  },
  {
   "cell_type": "code",
   "execution_count": 23,
   "id": "35539ed6",
   "metadata": {},
   "outputs": [],
   "source": [
    "x = np.linspace(0, 2 * np.pi)"
   ]
  },
  {
   "cell_type": "code",
   "execution_count": 24,
   "id": "3dacee5a",
   "metadata": {},
   "outputs": [],
   "source": [
    "actual_parameters = [3, 2, 1.25, np.pi / 4]"
   ]
  },
  {
   "cell_type": "code",
   "execution_count": 25,
   "id": "b09547d5",
   "metadata": {},
   "outputs": [],
   "source": [
    "y = my_f(x, *actual_parameters)"
   ]
  },
  {
   "cell_type": "code",
   "execution_count": 26,
   "id": "0a8c28fc",
   "metadata": {},
   "outputs": [],
   "source": [
    "y_noise = y + 0.8 * np.random.randn(len(y))"
   ]
  },
  {
   "cell_type": "code",
   "execution_count": 27,
   "id": "ff28f231",
   "metadata": {},
   "outputs": [
    {
     "data": {
      "text/plain": [
       "[<matplotlib.lines.Line2D at 0x11a5085e0>]"
      ]
     },
     "execution_count": 27,
     "metadata": {},
     "output_type": "execute_result"
    },
    {
     "data": {
      "image/png": "[encoded data removed]",
      "text/plain": [
       "<Figure size 432x288 with 1 Axes>"
      ]
     },
     "metadata": {
      "needs_background": "light"
     },
     "output_type": "display_data"
    }
   ],
   "source": [
    "plt.plot(x, y, \"x\")"
   ]
  },
  {
   "cell_type": "code",
   "execution_count": 28,
   "id": "fd5e3f92",
   "metadata": {},
   "outputs": [
    {
     "data": {
      "text/plain": [
       "[<matplotlib.lines.Line2D at 0x11a645b50>]"
      ]
     },
     "execution_count": 28,
     "metadata": {},
     "output_type": "execute_result"
    },
    {
     "data": {
      "image/png": "[encoded data removed]",
      "text/plain": [
       "<Figure size 432x288 with 1 Axes>"
      ]
     },
     "metadata": {
      "needs_background": "light"
     },
     "output_type": "display_data"
    }
   ],
   "source": [
    "plt.plot(x, y_noise, \"x\")"
   ]
  },
  {
   "attachments": {},
   "cell_type": "markdown",
   "id": "0631128d",
   "metadata": {},
   "source": [
    "最小二乘法（Least Squares）是一种优化技术，它通过最小化误差的平方和来寻找一个与数据匹配的最佳函数。\n",
    "\n",
    "为了使用最小二乘法，需要先定义一个误差函数："
   ]
  },
  {
   "cell_type": "code",
   "execution_count": 29,
   "id": "7cf1405c",
   "metadata": {},
   "outputs": [],
   "source": [
    "def err_f(p, x, y):\n",
    "    return y - my_f(x, *p) "
   ]
  },
  {
   "attachments": {},
   "cell_type": "markdown",
   "id": "4a4933a3",
   "metadata": {},
   "source": [
    "第一个参数p是要估计的真实参数，第二个参数x是数据的输入，第三个参数y是输入对应的数据值。\n",
    "\n",
    "利用该函数可以进行最小二乘估计："
   ]
  },
  {
   "cell_type": "code",
   "execution_count": 30,
   "id": "c0b349ae",
   "metadata": {},
   "outputs": [],
   "source": [
    "c, rv = optimize.leastsq(err_f, [1,1,1,1], args=(x, y_noise))"
   ]
  },
  {
   "attachments": {},
   "cell_type": "markdown",
   "id": "b315f1b5",
   "metadata": {},
   "source": [
    "找到最小二乘解时，rv返回1到4中的某个值，c返回找到的最小二乘估计："
   ]
  },
  {
   "cell_type": "code",
   "execution_count": 31,
   "id": "43703841",
   "metadata": {},
   "outputs": [
    {
     "data": {
      "text/plain": [
       "array([2.73620073, 2.08882198, 1.20078322, 0.93881627])"
      ]
     },
     "execution_count": 31,
     "metadata": {},
     "output_type": "execute_result"
    }
   ],
   "source": [
    "c"
   ]
  },
  {
   "cell_type": "code",
   "execution_count": 32,
   "id": "2dbe1ef5",
   "metadata": {},
   "outputs": [
    {
     "data": {
      "text/plain": [
       "1"
      ]
     },
     "execution_count": 32,
     "metadata": {},
     "output_type": "execute_result"
    }
   ],
   "source": [
    "rv"
   ]
  },
  {
   "cell_type": "markdown",
   "id": "05083450",
   "metadata": {},
   "source": [
    "真实参数为："
   ]
  },
  {
   "cell_type": "code",
   "execution_count": 33,
   "id": "9ea8e294",
   "metadata": {},
   "outputs": [
    {
     "data": {
      "text/plain": [
       "[3, 2, 1.25, 0.7853981633974483]"
      ]
     },
     "execution_count": 33,
     "metadata": {},
     "output_type": "execute_result"
    }
   ],
   "source": [
    "actual_parameters"
   ]
  },
  {
   "cell_type": "code",
   "execution_count": 34,
   "id": "c357b0ad",
   "metadata": {},
   "outputs": [
    {
     "data": {
      "text/plain": [
       "<matplotlib.legend.Legend at 0x11a65ab20>"
      ]
     },
     "execution_count": 34,
     "metadata": {},
     "output_type": "execute_result"
    },
    {
     "data": {
      "image/png": "[encoded data removed]",
      "text/plain": [
       "<Figure size 432x288 with 1 Axes>"
      ]
     },
     "metadata": {
      "needs_background": "light"
     },
     "output_type": "display_data"
    }
   ],
   "source": [
    "plt.plot(x, y_noise, \"x\", \n",
    "         x, y,\n",
    "         x, my_f(x, *c), \":\")\n",
    "plt.legend([\"data\", \"actual\", \"leastsq\"])"
   ]
  },
  {
   "attachments": {},
   "cell_type": "markdown",
   "id": "e0fb7ce6",
   "metadata": {},
   "source": [
    "也可以不定义误差函数，用函数`optimize.curve_fit()`直接对`my_f()`的参数进行拟合："
   ]
  },
  {
   "cell_type": "code",
   "execution_count": 35,
   "id": "91b6177a",
   "metadata": {},
   "outputs": [],
   "source": [
    "p_est, err_est = optimize.curve_fit(my_f, x, y_noise)"
   ]
  },
  {
   "cell_type": "code",
   "execution_count": 36,
   "id": "b1bfdf22",
   "metadata": {},
   "outputs": [
    {
     "data": {
      "text/plain": [
       "array([2.7362006 , 2.08882203, 1.20078321, 0.93881632])"
      ]
     },
     "execution_count": 36,
     "metadata": {},
     "output_type": "execute_result"
    }
   ],
   "source": [
    "p_est"
   ]
  },
  {
   "cell_type": "markdown",
   "id": "08076712",
   "metadata": {},
   "source": [
    "## 最值优化："
   ]
  },
  {
   "cell_type": "markdown",
   "id": "60a01dae",
   "metadata": {},
   "source": [
    "物理上斜抛运动的水平距离公式为："
   ]
  },
  {
   "cell_type": "code",
   "execution_count": 37,
   "id": "1147640f",
   "metadata": {},
   "outputs": [],
   "source": [
    "def fly_dist(theta, v0):\n",
    "    g = 9.8\n",
    "    theta_rad = np.pi * theta / 180.\n",
    "    return v0 ** 2 / g * np.sin(2 * theta_rad) "
   ]
  },
  {
   "attachments": {},
   "cell_type": "markdown",
   "id": "388d601d",
   "metadata": {},
   "source": [
    "theta是采用度数进行衡量的，取值为0°到90°。v0是初始加速度。可以知道，在v0固定时，水平距离最大的角度是45°。\n",
    "\n",
    "利用最小值优化函数`optimize.minimize()`可以得到这个结果。不过，为了获得最大值，首先要将最大值的问题转为求最小值的问题："
   ]
  },
  {
   "cell_type": "code",
   "execution_count": 38,
   "id": "d8d65c67",
   "metadata": {},
   "outputs": [],
   "source": [
    "fly_dist_neg = lambda theta, v0: - fly_dist(theta, v0)"
   ]
  },
  {
   "attachments": {},
   "cell_type": "markdown",
   "id": "31ec6696",
   "metadata": {},
   "source": [
    "设定初始猜测为10°，并将初速度v0通过额外参数传入："
   ]
  },
  {
   "cell_type": "code",
   "execution_count": 39,
   "id": "ce17617d",
   "metadata": {},
   "outputs": [],
   "source": [
    "res = optimize.minimize(fly_dist_neg, 10, args=(1,))"
   ]
  },
  {
   "cell_type": "code",
   "execution_count": 40,
   "id": "4755eda8",
   "metadata": {},
   "outputs": [
    {
     "data": {
      "text/plain": [
       "      fun: -0.10204081529676719\n",
       " hess_inv: array([[8179.23375443]])\n",
       "      jac: array([5.06639481e-07])\n",
       "  message: 'Optimization terminated successfully.'\n",
       "     nfev: 22\n",
       "      nit: 4\n",
       "     njev: 11\n",
       "   status: 0\n",
       "  success: True\n",
       "        x: array([45.00406995])"
      ]
     },
     "execution_count": 40,
     "metadata": {},
     "output_type": "execute_result"
    }
   ],
   "source": [
    "res"
   ]
  },
  {
   "cell_type": "code",
   "execution_count": 41,
   "id": "3f65eaa9",
   "metadata": {},
   "outputs": [
    {
     "data": {
      "text/plain": [
       "array([45.00406995])"
      ]
     },
     "execution_count": 41,
     "metadata": {},
     "output_type": "execute_result"
    }
   ],
   "source": [
    "res.x"
   ]
  },
  {
   "cell_type": "markdown",
   "id": "db01d64c",
   "metadata": {},
   "source": [
    "### 方程求根"
   ]
  },
  {
   "cell_type": "markdown",
   "id": "d6bdfd2c",
   "metadata": {},
   "source": [
    "考虑这样的一个函数："
   ]
  },
  {
   "cell_type": "code",
   "execution_count": 42,
   "id": "51cfbeba",
   "metadata": {},
   "outputs": [],
   "source": [
    "func = lambda x: x + np.cos(x)"
   ]
  },
  {
   "attachments": {},
   "cell_type": "markdown",
   "id": "6b6ea00a",
   "metadata": {},
   "source": [
    "可以使用`optimize.root()`函数求这个函数为0的值："
   ]
  },
  {
   "cell_type": "code",
   "execution_count": 43,
   "id": "fbc8bc7d",
   "metadata": {},
   "outputs": [],
   "source": [
    "sol = optimize.root(func, 0.3)"
   ]
  },
  {
   "cell_type": "code",
   "execution_count": 44,
   "id": "e69a06e7",
   "metadata": {},
   "outputs": [
    {
     "data": {
      "text/plain": [
       "array([-0.73908513])"
      ]
     },
     "execution_count": 44,
     "metadata": {},
     "output_type": "execute_result"
    }
   ],
   "source": [
    "sol.x"
   ]
  },
  {
   "cell_type": "code",
   "execution_count": 45,
   "id": "76919ceb",
   "metadata": {},
   "outputs": [
    {
     "data": {
      "text/plain": [
       "array([1.11022302e-16])"
      ]
     },
     "execution_count": 45,
     "metadata": {},
     "output_type": "execute_result"
    }
   ],
   "source": [
    "sol.fun"
   ]
  },
  {
   "attachments": {},
   "cell_type": "markdown",
   "id": "8feed71c",
   "metadata": {},
   "source": [
    "`optimize.root()`函数还可以求解方程组："
   ]
  },
  {
   "cell_type": "code",
   "execution_count": 46,
   "id": "fbaea4cb",
   "metadata": {},
   "outputs": [],
   "source": [
    "func2 = lambda x: [x[0]*np.cos(x[1]) - 4, x[0]*x[1] - x[1] - 5]"
   ]
  },
  {
   "cell_type": "code",
   "execution_count": 47,
   "id": "b9bfc880",
   "metadata": {},
   "outputs": [],
   "source": [
    "sol = optimize.root(func, [1, 1])"
   ]
  },
  {
   "cell_type": "code",
   "execution_count": 48,
   "id": "296709ce",
   "metadata": {},
   "outputs": [
    {
     "data": {
      "text/plain": [
       "array([-0.73908513, -0.73908513])"
      ]
     },
     "execution_count": 48,
     "metadata": {},
     "output_type": "execute_result"
    }
   ],
   "source": [
    "sol.x"
   ]
  },
  {
   "cell_type": "code",
   "execution_count": 49,
   "id": "ed91719a",
   "metadata": {},
   "outputs": [
    {
     "data": {
      "text/plain": [
       "array([-3.21964677e-15,  3.10862447e-15])"
      ]
     },
     "execution_count": 49,
     "metadata": {},
     "output_type": "execute_result"
    }
   ],
   "source": [
    "sol.fun"
   ]
  },
  {
   "cell_type": "code",
   "execution_count": null,
   "id": "e58c6ea3",
   "metadata": {},
   "outputs": [],
   "source": []
  }
 ],
 "metadata": {
  "kernelspec": {
   "display_name": "Python 3 (ipykernel)",
   "language": "python",
   "name": "python3"
  },
  "language_info": {
   "codemirror_mode": {
    "name": "ipython",
    "version": 3
   },
   "file_extension": ".py",
   "mimetype": "text/x-python",
   "name": "python",
   "nbconvert_exporter": "python",
   "pygments_lexer": "ipython3",
   "version": "3.9.10"
  }
 },
 "nbformat": 4,
 "nbformat_minor": 5
}
