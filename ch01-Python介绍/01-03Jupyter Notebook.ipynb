{
 "cells": [
  {
   "attachments": {},
   "cell_type": "markdown",
   "id": "4b7e2e1a",
   "metadata": {},
   "source": [
    "# Jupyter Notebook\n",
    "\n",
    "Jupyter Notebook是一种可以在浏览器中运行和保存Python代码的应用。Anaconda中已经包含了Jupyter Notebook，可以通过命令行进入：\n",
    "\n",
    "```shell\n",
    "jupyter notebook\n",
    "```\n",
    "\n",
    "Windows下，也可以通过开始菜单选择Jupyter Notebook进入。\n",
    "\n",
    "Windows系统中，如果想在某个文件夹下打开命令行，可以在这个文件夹中按`<shift+右键>`，选择在此处打开命令行或Powershell窗口。Mac/Linux则可通过命令行应用`cd`到某个目录后输入Jupyter Notebook的命令。\n",
    "\n",
    "如果没有安装Jupyter Notebook，可以通过`pip`安装：\n",
    "\n",
    "```shell\n",
    "pip install notebook\n",
    "```\n",
    "\n",
    "运行后，会自动打开一个网页：\n",
    "\n",
    "http://localhost:8888/\n",
    "\n",
    "使用Jupyter Notebook，可以将代码与运行结果保存到本地文件中，方便下次运行和查看，并可以通过文件与其他用户进行分享；通过修改已有的Notebook文件，读者也可以得到新的运行结果。"
   ]
  }
 ],
 "metadata": {
  "kernelspec": {
   "display_name": "Python 3 (ipykernel)",
   "language": "python",
   "name": "python3"
  },
  "language_info": {
   "codemirror_mode": {
    "name": "ipython",
    "version": 3
   },
   "file_extension": ".py",
   "mimetype": "text/x-python",
   "name": "python",
   "nbconvert_exporter": "python",
   "pygments_lexer": "ipython3",
   "version": "3.9.10"
  }
 },
 "nbformat": 4,
 "nbformat_minor": 5
}
