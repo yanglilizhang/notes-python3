{
 "cells": [
  {
   "attachments": {},
   "cell_type": "markdown",
   "id": "8d818376",
   "metadata": {},
   "source": [
    "# NumPy模块简介"
   ]
  },
  {
   "attachments": {},
   "cell_type": "markdown",
   "id": "b9d90f7f",
   "metadata": {},
   "source": [
    "NumPy是Python的一个基础科学计算模块，一些高级的第三方科学计算模块如SciPy、Matplotlib、Pandas等，都是基于NumPy所构建的。\n",
    "\n",
    "NumPy模块具有一下特性：\n",
    "- 强大的多维数组类型和实用的函数。\n",
    "- C/C++/Fortran语言为底层的实现。\n",
    "- 线性代数、傅里叶变换和随机数支持。\n",
    "- 高效的数据存储容器。\n",
    "\n",
    "Anaconda环境中已经集成了NumPy模块，不需要再次安装。\n",
    "\n",
    "NumPy模块可以在命令行中用pip更新：\n",
    "```shell\n",
    "pip install numpy -U\n",
    "```\n",
    "\n",
    "NumPy模块的源代码放在GitHub网站上，地址为：\n",
    "https://github.com/numpy/numpy.git\n",
    "\n",
    "其官方文档的地址为：\n",
    "http://www.numpy.org/\n",
    "\n",
    "通常使用以下方式导入NumPy模块："
   ]
  },
  {
   "cell_type": "code",
   "execution_count": 1,
   "id": "daf68647",
   "metadata": {},
   "outputs": [],
   "source": [
    "import numpy as np"
   ]
  },
  {
   "cell_type": "code",
   "execution_count": null,
   "id": "f4f394b9",
   "metadata": {},
   "outputs": [],
   "source": []
  }
 ],
 "metadata": {
  "kernelspec": {
   "display_name": "Python 3 (ipykernel)",
   "language": "python",
   "name": "python3"
  },
  "language_info": {
   "codemirror_mode": {
    "name": "ipython",
    "version": 3
   },
   "file_extension": ".py",
   "mimetype": "text/x-python",
   "name": "python",
   "nbconvert_exporter": "python",
   "pygments_lexer": "ipython3",
   "version": "3.9.10"
  }
 },
 "nbformat": 4,
 "nbformat_minor": 5
}
