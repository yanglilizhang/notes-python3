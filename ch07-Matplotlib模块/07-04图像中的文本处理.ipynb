{
 "cells": [
  {
   "cell_type": "markdown",
   "id": "ffddc5ac",
   "metadata": {},
   "source": [
    "# 图像中的文本处理"
   ]
  },
  {
   "attachments": {},
   "cell_type": "markdown",
   "id": "8be79acb",
   "metadata": {},
   "source": [
    "在数据可视化时，通常需要加上一些描述文字对生成的图形进行描述和解释。Matplotlib模块提供了一些基于函数和基于对象的文本处理方法。\n",
    "\n",
    "函数 |\t方法|\t作用\n",
    ":--|:--|:--\n",
    "`plt.text()`\t|`axes.text()`\t|在指定位置添加文本\n",
    "`plt.xlabel()`\t|`axes.set_xlabel()`\t|添加x轴标题\n",
    "`plt.ylabel()`\t|`axes.set_ylabel()`\t|添加y轴标题\n",
    "`plt.title()`\t|`axes.set_title()`\t|添加标题\n",
    "`plt.suptitle()`\t|`fig.suptitle()`\t|整张图的标题\n",
    "`plt.anotate()`\t|`axes.anotate()`\t|添加注释\n"
   ]
  },
  {
   "cell_type": "code",
   "execution_count": 1,
   "id": "a44de623",
   "metadata": {},
   "outputs": [
    {
     "data": {
      "image/png": "[encoded data removed]",
      "text/plain": [
       "<Figure size 432x288 with 1 Axes>"
      ]
     },
     "metadata": {
      "needs_background": "light"
     },
     "output_type": "display_data"
    }
   ],
   "source": [
    "from matplotlib import pyplot as plt\n",
    "plt.title('alpha > beta')\n",
    "plt.show()"
   ]
  },
  {
   "attachments": {},
   "cell_type": "markdown",
   "id": "36329acb",
   "metadata": {},
   "source": [
    "可以用LaTex的语法将标题替换为公式："
   ]
  },
  {
   "cell_type": "code",
   "execution_count": 3,
   "id": "16e7a0ee",
   "metadata": {},
   "outputs": [
    {
     "data": {
      "image/png": "[encoded data removed]",
      "text/plain": [
       "<Figure size 432x288 with 1 Axes>"
      ]
     },
     "metadata": {
      "needs_background": "light"
     },
     "output_type": "display_data"
    }
   ],
   "source": [
    "from matplotlib import pyplot as plt\n",
    "plt.title(r'$\\alpha > \\beta$')\n",
    "plt.show()"
   ]
  },
  {
   "cell_type": "markdown",
   "id": "b3acea13",
   "metadata": {},
   "source": [
    "值得注意的有两点，使用LaTex公式时，公式部分需要包含在一对`$`中，且为了防止转义字符的问题，字符串需要使用`r`字符串。"
   ]
  },
  {
   "cell_type": "code",
   "execution_count": null,
   "id": "1a5dff7c",
   "metadata": {},
   "outputs": [],
   "source": []
  }
 ],
 "metadata": {
  "kernelspec": {
   "display_name": "Python 3 (ipykernel)",
   "language": "python",
   "name": "python3"
  },
  "language_info": {
   "codemirror_mode": {
    "name": "ipython",
    "version": 3
   },
   "file_extension": ".py",
   "mimetype": "text/x-python",
   "name": "python",
   "nbconvert_exporter": "python",
   "pygments_lexer": "ipython3",
   "version": "3.9.10"
  }
 },
 "nbformat": 4,
 "nbformat_minor": 5
}
