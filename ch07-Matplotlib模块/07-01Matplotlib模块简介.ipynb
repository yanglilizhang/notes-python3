{
 "cells": [
  {
   "cell_type": "markdown",
   "id": "871617d6",
   "metadata": {},
   "source": [
    "# Matplotlib模块简介"
   ]
  },
  {
   "cell_type": "markdown",
   "id": "bbd20401",
   "metadata": {},
   "source": [
    "`Matplotlib`模块是Python中一个常用的第三方数据可视化模块，支持很多不同类型的数据可视化操作。`Matplotlib`模块有丰富的代码示例，支持精准的图像控制和高质量的图像输出，还可以使用`Tex`语法显示公式。`Matplotlib`模块官方文档地址为：\n",
    "\n",
    "http://matplotlib.org\n",
    "\n",
    "`Matplotlib`模块可以在脚本模式、`Python`或`IPython`解释器以及`Jupyter Notebook`中使用。`Anaconda`已经预先安装好了`Matplotlib`模块。也可以使用pip命令更新：\n",
    "```shell\n",
    "pip install matplotlib -U\n",
    "```"
   ]
  },
  {
   "cell_type": "code",
   "execution_count": 1,
   "id": "0bd67e14",
   "metadata": {},
   "outputs": [],
   "source": [
    "import matplotlib as mpl"
   ]
  },
  {
   "cell_type": "code",
   "execution_count": 2,
   "id": "dd6399a7",
   "metadata": {},
   "outputs": [
    {
     "data": {
      "text/plain": [
       "'3.5.1'"
      ]
     },
     "execution_count": 2,
     "metadata": {},
     "output_type": "execute_result"
    }
   ],
   "source": [
    "mpl.__version__"
   ]
  },
  {
   "cell_type": "markdown",
   "id": "3ae890bd",
   "metadata": {},
   "source": [
    "在Matplotlib模块中，Pyplot是一个核心的绘图子模块，通过该子模块，可以完成很多基本的可视化操作。在实际操作中，该子模块通常这样导入："
   ]
  },
  {
   "cell_type": "code",
   "execution_count": 3,
   "id": "d76ef038",
   "metadata": {},
   "outputs": [],
   "source": [
    "from matplotlib import pyplot as plt"
   ]
  },
  {
   "cell_type": "code",
   "execution_count": null,
   "id": "8a6a2745",
   "metadata": {},
   "outputs": [],
   "source": []
  }
 ],
 "metadata": {
  "kernelspec": {
   "display_name": "Python 3 (ipykernel)",
   "language": "python",
   "name": "python3"
  },
  "language_info": {
   "codemirror_mode": {
    "name": "ipython",
    "version": 3
   },
   "file_extension": ".py",
   "mimetype": "text/x-python",
   "name": "python",
   "nbconvert_exporter": "python",
   "pygments_lexer": "ipython3",
   "version": "3.9.10"
  }
 },
 "nbformat": 4,
 "nbformat_minor": 5
}
